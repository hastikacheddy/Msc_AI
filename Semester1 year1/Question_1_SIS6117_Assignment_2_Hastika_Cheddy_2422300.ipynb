{
  "nbformat": 4,
  "nbformat_minor": 0,
  "metadata": {
    "colab": {
      "provenance": []
    },
    "kernelspec": {
      "name": "python3",
      "display_name": "Python 3"
    },
    "language_info": {
      "name": "python"
    }
  },
  "cells": [
    {
      "cell_type": "markdown",
      "source": [
        "# Question 1"
      ],
      "metadata": {
        "id": "NZagnPaXp3V8"
      }
    },
    {
      "cell_type": "markdown",
      "source": [
        "## Problem Statement\n",
        " In Lab one, you were illustrated how Artificial Neural Network (ANN) works using\n",
        "the Stock Prices Prediction example using spreadsheet. You were introduced to the\n",
        "activation functions, weights and error.\n",
        "\n",
        "Task\n",
        "\n",
        "You are required to demonstrate the understanding of the concepts through the\n",
        "following:\n",
        "\n",
        "Dataset: https://www.kaggle.com/datasets/huyngohoang/housingcsv\n",
        "\n",
        "Explanation: The dataset contains information about houses, including their **price**, **area**, and features like the number of **bedrooms**, **bathrooms**, and **stories**. It also includes categorical variables such as whether the house is on the **mainroad**, has a **guestroom**, **basement**, **hot water heating**, or **air conditioning**. Additional details include the number of **parking** spaces, whether the house is in a **preferred area**, and its **furnishing status** (furnished, semi-furnished, or unfurnished). This mix of numerical and categorical data makes it ideal for analyzing house prices or predicting property preferences.\n",
        "\n"
      ],
      "metadata": {
        "id": "HG6FEUfEp8RS"
      }
    },
    {
      "cell_type": "markdown",
      "source": [
        "## 1. Import Libraries and Load Dataset"
      ],
      "metadata": {
        "id": "yYnlKWbOXit9"
      }
    },
    {
      "cell_type": "markdown",
      "source": [
        "The provided code snippet imports the necessary libraries, NumPy and Pandas, which are essential for numerical computations and data manipulation, respectively. It then loads a dataset named Housing.csv into a Pandas DataFrame (df) from a specified file path on Google Drive. Finally, the head() function is called to display the first few rows of the dataset, offering a quick preview of its structure and content, such as column names and initial data entries."
      ],
      "metadata": {
        "id": "0lUEo1XhQ2iR"
      }
    },
    {
      "cell_type": "code",
      "source": [
        "# Import required libraries\n",
        "import numpy as np\n",
        "import pandas as pd\n",
        "from sklearn.preprocessing import MinMaxScaler\n",
        "\n",
        "\n",
        "\n",
        "# Load the dataset\n",
        "df = pd.read_csv('/content/drive/MyDrive/Colab Notebooks/Housing.csv')\n",
        "\n",
        "# Display the first few rows of the dataset\n",
        "df.head()\n"
      ],
      "metadata": {
        "colab": {
          "base_uri": "https://localhost:8080/",
          "height": 206
        },
        "id": "6EmsXNTXXiXB",
        "outputId": "cee17876-66d9-407c-b70b-b8e0e440eee6"
      },
      "execution_count": null,
      "outputs": [
        {
          "output_type": "execute_result",
          "data": {
            "text/plain": [
              "      price  area  bedrooms  bathrooms  stories mainroad guestroom basement  \\\n",
              "0  13300000  7420         4          2        3      yes        no       no   \n",
              "1  12250000  8960         4          4        4      yes        no       no   \n",
              "2  12250000  9960         3          2        2      yes        no      yes   \n",
              "3  12215000  7500         4          2        2      yes        no      yes   \n",
              "4  11410000  7420         4          1        2      yes       yes      yes   \n",
              "\n",
              "  hotwaterheating airconditioning  parking prefarea furnishingstatus  \n",
              "0              no             yes        2      yes        furnished  \n",
              "1              no             yes        3       no        furnished  \n",
              "2              no              no        2      yes   semi-furnished  \n",
              "3              no             yes        3      yes        furnished  \n",
              "4              no             yes        2       no        furnished  "
            ],
            "text/html": [
              "\n",
              "  <div id=\"df-29d06c87-c6eb-4597-bdb4-d9df5ceebfdf\" class=\"colab-df-container\">\n",
              "    <div>\n",
              "<style scoped>\n",
              "    .dataframe tbody tr th:only-of-type {\n",
              "        vertical-align: middle;\n",
              "    }\n",
              "\n",
              "    .dataframe tbody tr th {\n",
              "        vertical-align: top;\n",
              "    }\n",
              "\n",
              "    .dataframe thead th {\n",
              "        text-align: right;\n",
              "    }\n",
              "</style>\n",
              "<table border=\"1\" class=\"dataframe\">\n",
              "  <thead>\n",
              "    <tr style=\"text-align: right;\">\n",
              "      <th></th>\n",
              "      <th>price</th>\n",
              "      <th>area</th>\n",
              "      <th>bedrooms</th>\n",
              "      <th>bathrooms</th>\n",
              "      <th>stories</th>\n",
              "      <th>mainroad</th>\n",
              "      <th>guestroom</th>\n",
              "      <th>basement</th>\n",
              "      <th>hotwaterheating</th>\n",
              "      <th>airconditioning</th>\n",
              "      <th>parking</th>\n",
              "      <th>prefarea</th>\n",
              "      <th>furnishingstatus</th>\n",
              "    </tr>\n",
              "  </thead>\n",
              "  <tbody>\n",
              "    <tr>\n",
              "      <th>0</th>\n",
              "      <td>13300000</td>\n",
              "      <td>7420</td>\n",
              "      <td>4</td>\n",
              "      <td>2</td>\n",
              "      <td>3</td>\n",
              "      <td>yes</td>\n",
              "      <td>no</td>\n",
              "      <td>no</td>\n",
              "      <td>no</td>\n",
              "      <td>yes</td>\n",
              "      <td>2</td>\n",
              "      <td>yes</td>\n",
              "      <td>furnished</td>\n",
              "    </tr>\n",
              "    <tr>\n",
              "      <th>1</th>\n",
              "      <td>12250000</td>\n",
              "      <td>8960</td>\n",
              "      <td>4</td>\n",
              "      <td>4</td>\n",
              "      <td>4</td>\n",
              "      <td>yes</td>\n",
              "      <td>no</td>\n",
              "      <td>no</td>\n",
              "      <td>no</td>\n",
              "      <td>yes</td>\n",
              "      <td>3</td>\n",
              "      <td>no</td>\n",
              "      <td>furnished</td>\n",
              "    </tr>\n",
              "    <tr>\n",
              "      <th>2</th>\n",
              "      <td>12250000</td>\n",
              "      <td>9960</td>\n",
              "      <td>3</td>\n",
              "      <td>2</td>\n",
              "      <td>2</td>\n",
              "      <td>yes</td>\n",
              "      <td>no</td>\n",
              "      <td>yes</td>\n",
              "      <td>no</td>\n",
              "      <td>no</td>\n",
              "      <td>2</td>\n",
              "      <td>yes</td>\n",
              "      <td>semi-furnished</td>\n",
              "    </tr>\n",
              "    <tr>\n",
              "      <th>3</th>\n",
              "      <td>12215000</td>\n",
              "      <td>7500</td>\n",
              "      <td>4</td>\n",
              "      <td>2</td>\n",
              "      <td>2</td>\n",
              "      <td>yes</td>\n",
              "      <td>no</td>\n",
              "      <td>yes</td>\n",
              "      <td>no</td>\n",
              "      <td>yes</td>\n",
              "      <td>3</td>\n",
              "      <td>yes</td>\n",
              "      <td>furnished</td>\n",
              "    </tr>\n",
              "    <tr>\n",
              "      <th>4</th>\n",
              "      <td>11410000</td>\n",
              "      <td>7420</td>\n",
              "      <td>4</td>\n",
              "      <td>1</td>\n",
              "      <td>2</td>\n",
              "      <td>yes</td>\n",
              "      <td>yes</td>\n",
              "      <td>yes</td>\n",
              "      <td>no</td>\n",
              "      <td>yes</td>\n",
              "      <td>2</td>\n",
              "      <td>no</td>\n",
              "      <td>furnished</td>\n",
              "    </tr>\n",
              "  </tbody>\n",
              "</table>\n",
              "</div>\n",
              "    <div class=\"colab-df-buttons\">\n",
              "\n",
              "  <div class=\"colab-df-container\">\n",
              "    <button class=\"colab-df-convert\" onclick=\"convertToInteractive('df-29d06c87-c6eb-4597-bdb4-d9df5ceebfdf')\"\n",
              "            title=\"Convert this dataframe to an interactive table.\"\n",
              "            style=\"display:none;\">\n",
              "\n",
              "  <svg xmlns=\"http://www.w3.org/2000/svg\" height=\"24px\" viewBox=\"0 -960 960 960\">\n",
              "    <path d=\"M120-120v-720h720v720H120Zm60-500h600v-160H180v160Zm220 220h160v-160H400v160Zm0 220h160v-160H400v160ZM180-400h160v-160H180v160Zm440 0h160v-160H620v160ZM180-180h160v-160H180v160Zm440 0h160v-160H620v160Z\"/>\n",
              "  </svg>\n",
              "    </button>\n",
              "\n",
              "  <style>\n",
              "    .colab-df-container {\n",
              "      display:flex;\n",
              "      gap: 12px;\n",
              "    }\n",
              "\n",
              "    .colab-df-convert {\n",
              "      background-color: #E8F0FE;\n",
              "      border: none;\n",
              "      border-radius: 50%;\n",
              "      cursor: pointer;\n",
              "      display: none;\n",
              "      fill: #1967D2;\n",
              "      height: 32px;\n",
              "      padding: 0 0 0 0;\n",
              "      width: 32px;\n",
              "    }\n",
              "\n",
              "    .colab-df-convert:hover {\n",
              "      background-color: #E2EBFA;\n",
              "      box-shadow: 0px 1px 2px rgba(60, 64, 67, 0.3), 0px 1px 3px 1px rgba(60, 64, 67, 0.15);\n",
              "      fill: #174EA6;\n",
              "    }\n",
              "\n",
              "    .colab-df-buttons div {\n",
              "      margin-bottom: 4px;\n",
              "    }\n",
              "\n",
              "    [theme=dark] .colab-df-convert {\n",
              "      background-color: #3B4455;\n",
              "      fill: #D2E3FC;\n",
              "    }\n",
              "\n",
              "    [theme=dark] .colab-df-convert:hover {\n",
              "      background-color: #434B5C;\n",
              "      box-shadow: 0px 1px 3px 1px rgba(0, 0, 0, 0.15);\n",
              "      filter: drop-shadow(0px 1px 2px rgba(0, 0, 0, 0.3));\n",
              "      fill: #FFFFFF;\n",
              "    }\n",
              "  </style>\n",
              "\n",
              "    <script>\n",
              "      const buttonEl =\n",
              "        document.querySelector('#df-29d06c87-c6eb-4597-bdb4-d9df5ceebfdf button.colab-df-convert');\n",
              "      buttonEl.style.display =\n",
              "        google.colab.kernel.accessAllowed ? 'block' : 'none';\n",
              "\n",
              "      async function convertToInteractive(key) {\n",
              "        const element = document.querySelector('#df-29d06c87-c6eb-4597-bdb4-d9df5ceebfdf');\n",
              "        const dataTable =\n",
              "          await google.colab.kernel.invokeFunction('convertToInteractive',\n",
              "                                                    [key], {});\n",
              "        if (!dataTable) return;\n",
              "\n",
              "        const docLinkHtml = 'Like what you see? Visit the ' +\n",
              "          '<a target=\"_blank\" href=https://colab.research.google.com/notebooks/data_table.ipynb>data table notebook</a>'\n",
              "          + ' to learn more about interactive tables.';\n",
              "        element.innerHTML = '';\n",
              "        dataTable['output_type'] = 'display_data';\n",
              "        await google.colab.output.renderOutput(dataTable, element);\n",
              "        const docLink = document.createElement('div');\n",
              "        docLink.innerHTML = docLinkHtml;\n",
              "        element.appendChild(docLink);\n",
              "      }\n",
              "    </script>\n",
              "  </div>\n",
              "\n",
              "\n",
              "<div id=\"df-8f501a9f-a525-41a3-bee9-8eb3402e6bc9\">\n",
              "  <button class=\"colab-df-quickchart\" onclick=\"quickchart('df-8f501a9f-a525-41a3-bee9-8eb3402e6bc9')\"\n",
              "            title=\"Suggest charts\"\n",
              "            style=\"display:none;\">\n",
              "\n",
              "<svg xmlns=\"http://www.w3.org/2000/svg\" height=\"24px\"viewBox=\"0 0 24 24\"\n",
              "     width=\"24px\">\n",
              "    <g>\n",
              "        <path d=\"M19 3H5c-1.1 0-2 .9-2 2v14c0 1.1.9 2 2 2h14c1.1 0 2-.9 2-2V5c0-1.1-.9-2-2-2zM9 17H7v-7h2v7zm4 0h-2V7h2v10zm4 0h-2v-4h2v4z\"/>\n",
              "    </g>\n",
              "</svg>\n",
              "  </button>\n",
              "\n",
              "<style>\n",
              "  .colab-df-quickchart {\n",
              "      --bg-color: #E8F0FE;\n",
              "      --fill-color: #1967D2;\n",
              "      --hover-bg-color: #E2EBFA;\n",
              "      --hover-fill-color: #174EA6;\n",
              "      --disabled-fill-color: #AAA;\n",
              "      --disabled-bg-color: #DDD;\n",
              "  }\n",
              "\n",
              "  [theme=dark] .colab-df-quickchart {\n",
              "      --bg-color: #3B4455;\n",
              "      --fill-color: #D2E3FC;\n",
              "      --hover-bg-color: #434B5C;\n",
              "      --hover-fill-color: #FFFFFF;\n",
              "      --disabled-bg-color: #3B4455;\n",
              "      --disabled-fill-color: #666;\n",
              "  }\n",
              "\n",
              "  .colab-df-quickchart {\n",
              "    background-color: var(--bg-color);\n",
              "    border: none;\n",
              "    border-radius: 50%;\n",
              "    cursor: pointer;\n",
              "    display: none;\n",
              "    fill: var(--fill-color);\n",
              "    height: 32px;\n",
              "    padding: 0;\n",
              "    width: 32px;\n",
              "  }\n",
              "\n",
              "  .colab-df-quickchart:hover {\n",
              "    background-color: var(--hover-bg-color);\n",
              "    box-shadow: 0 1px 2px rgba(60, 64, 67, 0.3), 0 1px 3px 1px rgba(60, 64, 67, 0.15);\n",
              "    fill: var(--button-hover-fill-color);\n",
              "  }\n",
              "\n",
              "  .colab-df-quickchart-complete:disabled,\n",
              "  .colab-df-quickchart-complete:disabled:hover {\n",
              "    background-color: var(--disabled-bg-color);\n",
              "    fill: var(--disabled-fill-color);\n",
              "    box-shadow: none;\n",
              "  }\n",
              "\n",
              "  .colab-df-spinner {\n",
              "    border: 2px solid var(--fill-color);\n",
              "    border-color: transparent;\n",
              "    border-bottom-color: var(--fill-color);\n",
              "    animation:\n",
              "      spin 1s steps(1) infinite;\n",
              "  }\n",
              "\n",
              "  @keyframes spin {\n",
              "    0% {\n",
              "      border-color: transparent;\n",
              "      border-bottom-color: var(--fill-color);\n",
              "      border-left-color: var(--fill-color);\n",
              "    }\n",
              "    20% {\n",
              "      border-color: transparent;\n",
              "      border-left-color: var(--fill-color);\n",
              "      border-top-color: var(--fill-color);\n",
              "    }\n",
              "    30% {\n",
              "      border-color: transparent;\n",
              "      border-left-color: var(--fill-color);\n",
              "      border-top-color: var(--fill-color);\n",
              "      border-right-color: var(--fill-color);\n",
              "    }\n",
              "    40% {\n",
              "      border-color: transparent;\n",
              "      border-right-color: var(--fill-color);\n",
              "      border-top-color: var(--fill-color);\n",
              "    }\n",
              "    60% {\n",
              "      border-color: transparent;\n",
              "      border-right-color: var(--fill-color);\n",
              "    }\n",
              "    80% {\n",
              "      border-color: transparent;\n",
              "      border-right-color: var(--fill-color);\n",
              "      border-bottom-color: var(--fill-color);\n",
              "    }\n",
              "    90% {\n",
              "      border-color: transparent;\n",
              "      border-bottom-color: var(--fill-color);\n",
              "    }\n",
              "  }\n",
              "</style>\n",
              "\n",
              "  <script>\n",
              "    async function quickchart(key) {\n",
              "      const quickchartButtonEl =\n",
              "        document.querySelector('#' + key + ' button');\n",
              "      quickchartButtonEl.disabled = true;  // To prevent multiple clicks.\n",
              "      quickchartButtonEl.classList.add('colab-df-spinner');\n",
              "      try {\n",
              "        const charts = await google.colab.kernel.invokeFunction(\n",
              "            'suggestCharts', [key], {});\n",
              "      } catch (error) {\n",
              "        console.error('Error during call to suggestCharts:', error);\n",
              "      }\n",
              "      quickchartButtonEl.classList.remove('colab-df-spinner');\n",
              "      quickchartButtonEl.classList.add('colab-df-quickchart-complete');\n",
              "    }\n",
              "    (() => {\n",
              "      let quickchartButtonEl =\n",
              "        document.querySelector('#df-8f501a9f-a525-41a3-bee9-8eb3402e6bc9 button');\n",
              "      quickchartButtonEl.style.display =\n",
              "        google.colab.kernel.accessAllowed ? 'block' : 'none';\n",
              "    })();\n",
              "  </script>\n",
              "</div>\n",
              "\n",
              "    </div>\n",
              "  </div>\n"
            ],
            "application/vnd.google.colaboratory.intrinsic+json": {
              "type": "dataframe",
              "variable_name": "df",
              "summary": "{\n  \"name\": \"df\",\n  \"rows\": 545,\n  \"fields\": [\n    {\n      \"column\": \"price\",\n      \"properties\": {\n        \"dtype\": \"number\",\n        \"std\": 1870439,\n        \"min\": 1750000,\n        \"max\": 13300000,\n        \"num_unique_values\": 219,\n        \"samples\": [\n          3773000,\n          5285000,\n          1820000\n        ],\n        \"semantic_type\": \"\",\n        \"description\": \"\"\n      }\n    },\n    {\n      \"column\": \"area\",\n      \"properties\": {\n        \"dtype\": \"number\",\n        \"std\": 2170,\n        \"min\": 1650,\n        \"max\": 16200,\n        \"num_unique_values\": 284,\n        \"samples\": [\n          6000,\n          2684,\n          5360\n        ],\n        \"semantic_type\": \"\",\n        \"description\": \"\"\n      }\n    },\n    {\n      \"column\": \"bedrooms\",\n      \"properties\": {\n        \"dtype\": \"number\",\n        \"std\": 0,\n        \"min\": 1,\n        \"max\": 6,\n        \"num_unique_values\": 6,\n        \"samples\": [\n          4,\n          3,\n          1\n        ],\n        \"semantic_type\": \"\",\n        \"description\": \"\"\n      }\n    },\n    {\n      \"column\": \"bathrooms\",\n      \"properties\": {\n        \"dtype\": \"number\",\n        \"std\": 0,\n        \"min\": 1,\n        \"max\": 4,\n        \"num_unique_values\": 4,\n        \"samples\": [\n          4,\n          3,\n          2\n        ],\n        \"semantic_type\": \"\",\n        \"description\": \"\"\n      }\n    },\n    {\n      \"column\": \"stories\",\n      \"properties\": {\n        \"dtype\": \"number\",\n        \"std\": 0,\n        \"min\": 1,\n        \"max\": 4,\n        \"num_unique_values\": 4,\n        \"samples\": [\n          4,\n          1,\n          3\n        ],\n        \"semantic_type\": \"\",\n        \"description\": \"\"\n      }\n    },\n    {\n      \"column\": \"mainroad\",\n      \"properties\": {\n        \"dtype\": \"category\",\n        \"num_unique_values\": 2,\n        \"samples\": [\n          \"no\",\n          \"yes\"\n        ],\n        \"semantic_type\": \"\",\n        \"description\": \"\"\n      }\n    },\n    {\n      \"column\": \"guestroom\",\n      \"properties\": {\n        \"dtype\": \"category\",\n        \"num_unique_values\": 2,\n        \"samples\": [\n          \"yes\",\n          \"no\"\n        ],\n        \"semantic_type\": \"\",\n        \"description\": \"\"\n      }\n    },\n    {\n      \"column\": \"basement\",\n      \"properties\": {\n        \"dtype\": \"category\",\n        \"num_unique_values\": 2,\n        \"samples\": [\n          \"yes\",\n          \"no\"\n        ],\n        \"semantic_type\": \"\",\n        \"description\": \"\"\n      }\n    },\n    {\n      \"column\": \"hotwaterheating\",\n      \"properties\": {\n        \"dtype\": \"category\",\n        \"num_unique_values\": 2,\n        \"samples\": [\n          \"yes\",\n          \"no\"\n        ],\n        \"semantic_type\": \"\",\n        \"description\": \"\"\n      }\n    },\n    {\n      \"column\": \"airconditioning\",\n      \"properties\": {\n        \"dtype\": \"category\",\n        \"num_unique_values\": 2,\n        \"samples\": [\n          \"no\",\n          \"yes\"\n        ],\n        \"semantic_type\": \"\",\n        \"description\": \"\"\n      }\n    },\n    {\n      \"column\": \"parking\",\n      \"properties\": {\n        \"dtype\": \"number\",\n        \"std\": 0,\n        \"min\": 0,\n        \"max\": 3,\n        \"num_unique_values\": 4,\n        \"samples\": [\n          3,\n          1\n        ],\n        \"semantic_type\": \"\",\n        \"description\": \"\"\n      }\n    },\n    {\n      \"column\": \"prefarea\",\n      \"properties\": {\n        \"dtype\": \"category\",\n        \"num_unique_values\": 2,\n        \"samples\": [\n          \"no\",\n          \"yes\"\n        ],\n        \"semantic_type\": \"\",\n        \"description\": \"\"\n      }\n    },\n    {\n      \"column\": \"furnishingstatus\",\n      \"properties\": {\n        \"dtype\": \"category\",\n        \"num_unique_values\": 3,\n        \"samples\": [\n          \"furnished\",\n          \"semi-furnished\"\n        ],\n        \"semantic_type\": \"\",\n        \"description\": \"\"\n      }\n    }\n  ]\n}"
            }
          },
          "metadata": {},
          "execution_count": 7
        }
      ]
    },
    {
      "cell_type": "markdown",
      "source": [
        "# 2. Data Preprocessing"
      ],
      "metadata": {
        "id": "RfUrMV1dRPW4"
      }
    },
    {
      "cell_type": "markdown",
      "source": [
        "This code converts categorical columns in the dataset into numeric values, making it suitable for machine learning models. Binary columns like `mainroad`, `guestroom`, `basement`, etc., are mapped to `1` for \"yes\" and `0` for \"no\" using a dictionary. Similarly, the `furnishingstatus` column, which has three categories (`furnished`, `semi-furnished`, and `unfurnished`), is mapped to numeric values `2`, `1`, and `0`. The `df_encoded` DataFrame contains the transformed data, and the first few rows are printed to verify the changes. This preprocessing step ensures categorical data is represented numerically for further computations."
      ],
      "metadata": {
        "id": "T0I3uwBjQ45H"
      }
    },
    {
      "cell_type": "code",
      "source": [
        "# Convert categorical columns to numeric using mapping or one-hot encoding\n",
        "df_encoded = df.copy()\n",
        "\n",
        "# Binary mappings for 'yes/no'\n",
        "binary_mapping = {'yes': 1, 'no': 0}\n",
        "df_encoded['mainroad'] = df_encoded['mainroad'].map(binary_mapping)\n",
        "df_encoded['guestroom'] = df_encoded['guestroom'].map(binary_mapping)\n",
        "df_encoded['basement'] = df_encoded['basement'].map(binary_mapping)\n",
        "df_encoded['hotwaterheating'] = df_encoded['hotwaterheating'].map(binary_mapping)\n",
        "df_encoded['airconditioning'] = df_encoded['airconditioning'].map(binary_mapping)\n",
        "df_encoded['prefarea'] = df_encoded['prefarea'].map(binary_mapping)\n",
        "\n",
        "# Map 'furnished', 'semi-furnished', 'unfurnished' to numeric\n",
        "furnishing_mapping = {'furnished': 2, 'semi-furnished': 1, 'unfurnished': 0}\n",
        "df_encoded['furnishingstatus'] = df_encoded['furnishingstatus'].map(furnishing_mapping)\n",
        "\n",
        "print(\"Encoded DataFrame:\")\n",
        "print(df_encoded.head())\n",
        "\n"
      ],
      "metadata": {
        "colab": {
          "base_uri": "https://localhost:8080/"
        },
        "id": "Avsp_zPsKaKv",
        "outputId": "e927acab-8e0f-4838-e900-cc7fb3bd5287"
      },
      "execution_count": null,
      "outputs": [
        {
          "output_type": "stream",
          "name": "stdout",
          "text": [
            "Encoded DataFrame:\n",
            "      price  area  bedrooms  bathrooms  stories  mainroad  guestroom  \\\n",
            "0  13300000  7420         4          2        3         1          0   \n",
            "1  12250000  8960         4          4        4         1          0   \n",
            "2  12250000  9960         3          2        2         1          0   \n",
            "3  12215000  7500         4          2        2         1          0   \n",
            "4  11410000  7420         4          1        2         1          1   \n",
            "\n",
            "   basement  hotwaterheating  airconditioning  parking  prefarea  \\\n",
            "0         0                0                1        2         1   \n",
            "1         0                0                1        3         0   \n",
            "2         1                0                0        2         1   \n",
            "3         1                0                1        3         1   \n",
            "4         1                0                1        2         0   \n",
            "\n",
            "   furnishingstatus  \n",
            "0                 2  \n",
            "1                 2  \n",
            "2                 1  \n",
            "3                 2  \n",
            "4                 2  \n"
          ]
        }
      ]
    },
    {
      "cell_type": "markdown",
      "source": [
        "# 3. Feature engineering"
      ],
      "metadata": {
        "id": "e_b7RqGkRiZx"
      }
    },
    {
      "cell_type": "markdown",
      "source": [
        "This code normalizes the dataset to a range between 0 and 1 using `MinMaxScaler`, ensuring all feature values are scaled for consistent neural network training. The input features (`x`) are extracted by excluding the `price` column, which serves as the output (`y`). Normalization helps improve model training by preventing large differences in feature scales from impacting learning efficiency. The first five normalized rows of both inputs and outputs are printed to confirm the transformation."
      ],
      "metadata": {
        "id": "mRZsp3UeRmYa"
      }
    },
    {
      "cell_type": "code",
      "source": [
        "# Normalize features for neural network input\n",
        "scaler = MinMaxScaler()\n",
        "normalized_data = scaler.fit_transform(df_encoded)\n",
        "\n",
        "# Adjust inputs (x) and outputs (y)\n",
        "x = normalized_data[:, 1:]  # Exclude price\n",
        "y = normalized_data[:, 0]   # Use price as the target\n",
        "\n",
        "print(\"Normalized Inputs (x):\\n\", x[:5])\n",
        "print(\"Normalized Outputs (y):\\n\", y[:5])\n"
      ],
      "metadata": {
        "colab": {
          "base_uri": "https://localhost:8080/"
        },
        "id": "19mBRCfaK0Sn",
        "outputId": "916757e5-fbfd-4a2e-f82e-b8946887fa8e"
      },
      "execution_count": null,
      "outputs": [
        {
          "output_type": "stream",
          "name": "stdout",
          "text": [
            "Normalized Inputs (x):\n",
            " [[0.39656357 0.6        0.33333333 0.66666667 1.         0.\n",
            "  0.         0.         1.         0.66666667 1.         1.        ]\n",
            " [0.5024055  0.6        1.         1.         1.         0.\n",
            "  0.         0.         1.         1.         0.         1.        ]\n",
            " [0.57113402 0.4        0.33333333 0.33333333 1.         0.\n",
            "  1.         0.         0.         0.66666667 1.         0.5       ]\n",
            " [0.40206186 0.6        0.33333333 0.33333333 1.         0.\n",
            "  1.         0.         1.         1.         1.         1.        ]\n",
            " [0.39656357 0.6        0.         0.33333333 1.         1.\n",
            "  1.         0.         1.         0.66666667 0.         1.        ]]\n",
            "Normalized Outputs (y):\n",
            " [1.         0.90909091 0.90909091 0.90606061 0.83636364]\n"
          ]
        }
      ]
    },
    {
      "cell_type": "markdown",
      "source": [
        "# 4.  Activation Function Definition"
      ],
      "metadata": {
        "id": "aXQKwf7_R1gy"
      }
    },
    {
      "cell_type": "markdown",
      "source": [
        "This code implements the **sigmoid activation function**, which maps inputs to a range between 0 and 1, making it suitable for neural networks to model probabilities. It also defines the **sigmoid derivative**, crucial for backpropagation, to calculate gradients and update weights during training."
      ],
      "metadata": {
        "id": "rHvsOH2GSFWP"
      }
    },
    {
      "cell_type": "code",
      "source": [
        "# Sigmoid Activation Function\n",
        "def sigmoid(z):\n",
        "    return 1 / (1 + np.exp(-z))\n",
        "\n",
        "# Derivative for backpropagation\n",
        "def sigmoid_derivative(z):\n",
        "    return z * (1 - z)\n"
      ],
      "metadata": {
        "id": "W0ACFpbKK_o_"
      },
      "execution_count": null,
      "outputs": []
    },
    {
      "cell_type": "markdown",
      "source": [
        "# 5. Weight Initialization"
      ],
      "metadata": {
        "id": "5DZptsiSSnoR"
      }
    },
    {
      "cell_type": "markdown",
      "source": [
        "\n",
        "\n",
        "This step, **Weight Initialization**, initializes the weights of the neural network randomly. Using `np.random.uniform`, weights are assigned random values between -1 and 1:\n",
        "\n",
        "1. **Input-to-Hidden Weights**: A matrix of dimensions (number of input features, number of hidden neurons).\n",
        "2. **Hidden-to-Output Weights**: A matrix of dimensions (number of hidden neurons, number of output neurons).\n",
        "\n",
        "Random initialization ensures that the network starts with varied weights, avoiding symmetry and enabling effective learning. The initial weights are printed for verification."
      ],
      "metadata": {
        "id": "IBrgSzLBSMQM"
      }
    },
    {
      "cell_type": "code",
      "source": [
        "# Initialize random weights\n",
        "np.random.seed(42)\n",
        "input_neurons = x.shape[1]\n",
        "hidden_neurons = 5\n",
        "output_neurons = 1\n",
        "\n",
        "weights_input_hidden = np.random.uniform(-1, 1, (input_neurons, hidden_neurons))\n",
        "weights_hidden_output = np.random.uniform(-1, 1, (hidden_neurons, output_neurons))\n",
        "\n",
        "print(\"Initial Weights (Input to Hidden):\\n\", weights_input_hidden)\n",
        "print(\"Initial Weights (Hidden to Output):\\n\", weights_hidden_output)\n"
      ],
      "metadata": {
        "colab": {
          "base_uri": "https://localhost:8080/"
        },
        "id": "kTYSe6XVLDkD",
        "outputId": "a7e8a61e-b54c-495b-f907-07c62d5eee39"
      },
      "execution_count": null,
      "outputs": [
        {
          "output_type": "stream",
          "name": "stdout",
          "text": [
            "Initial Weights (Input to Hidden):\n",
            " [[-0.25091976  0.90142861  0.46398788  0.19731697 -0.68796272]\n",
            " [-0.68801096 -0.88383278  0.73235229  0.20223002  0.41614516]\n",
            " [-0.95883101  0.9398197   0.66488528 -0.57532178 -0.63635007]\n",
            " [-0.63319098 -0.39151551  0.04951286 -0.13610996 -0.41754172]\n",
            " [ 0.22370579 -0.72101228 -0.4157107  -0.26727631 -0.08786003]\n",
            " [ 0.57035192 -0.60065244  0.02846888  0.18482914 -0.90709917]\n",
            " [ 0.2150897  -0.65895175 -0.86989681  0.89777107  0.93126407]\n",
            " [ 0.6167947  -0.39077246 -0.80465577  0.36846605 -0.11969501]\n",
            " [-0.75592353 -0.00964618 -0.93122296  0.8186408  -0.48244004]\n",
            " [ 0.32504457 -0.37657785  0.04013604  0.09342056 -0.63029109]\n",
            " [ 0.93916926  0.55026565  0.87899788  0.7896547   0.19579996]\n",
            " [ 0.84374847 -0.823015   -0.60803428 -0.90954542 -0.34933934]]\n",
            "Initial Weights (Hidden to Output):\n",
            " [[-0.22264542]\n",
            " [-0.45730194]\n",
            " [ 0.65747502]\n",
            " [-0.28649335]\n",
            " [-0.43813098]]\n"
          ]
        }
      ]
    },
    {
      "cell_type": "markdown",
      "source": [
        "# 6. Training the Neural Network"
      ],
      "metadata": {
        "id": "Y-F5uJb1T11-"
      }
    },
    {
      "cell_type": "markdown",
      "source": [
        "This step is **Training the Neural Network**. It involves forward propagation, where the input is passed through the network to generate predictions, and backpropagation, where the error is calculated and weights are adjusted to minimize the loss. This process is repeated for multiple epochs to train the model effectively."
      ],
      "metadata": {
        "id": "pf8u08jRTyDx"
      }
    },
    {
      "cell_type": "code",
      "source": [
        "# Training Parameters\n",
        "learning_rate = 0.01\n",
        "epochs = 1000\n",
        "\n",
        "# Store losses\n",
        "losses = []\n",
        "\n",
        "for epoch in range(epochs):\n",
        "    # Forward Propagation\n",
        "    hidden_input = np.dot(x, weights_input_hidden)\n",
        "    hidden_output = sigmoid(hidden_input)\n",
        "    final_input = np.dot(hidden_output, weights_hidden_output)\n",
        "    predicted_output = sigmoid(final_input)\n",
        "\n",
        "    # Compute Loss\n",
        "    loss = np.mean((y.reshape(-1, 1) - predicted_output) ** 2)\n",
        "    losses.append(loss)\n",
        "\n",
        "    # Backpropagation\n",
        "    error = y.reshape(-1, 1) - predicted_output\n",
        "    d_output = error * sigmoid_derivative(predicted_output)\n",
        "\n",
        "    hidden_error = d_output.dot(weights_hidden_output.T)\n",
        "    d_hidden = hidden_error * sigmoid_derivative(hidden_output)\n",
        "\n",
        "    # Update Weights\n",
        "    weights_hidden_output += hidden_output.T.dot(d_output) * learning_rate\n",
        "    weights_input_hidden += x.T.dot(d_hidden) * learning_rate\n",
        "\n",
        "    # Print loss every 100 epochs\n",
        "    if epoch % 100 == 0:\n",
        "        print(f\"Epoch {epoch}: Loss = {loss:.5f}\")\n"
      ],
      "metadata": {
        "colab": {
          "base_uri": "https://localhost:8080/"
        },
        "id": "Uj0dIe9rLQSI",
        "outputId": "6d27e53f-df88-4f43-92a2-353a19d987e8"
      },
      "execution_count": null,
      "outputs": [
        {
          "output_type": "stream",
          "name": "stdout",
          "text": [
            "Epoch 0: Loss = 0.05345\n",
            "Epoch 100: Loss = 0.01566\n",
            "Epoch 200: Loss = 0.01216\n",
            "Epoch 300: Loss = 0.01067\n",
            "Epoch 400: Loss = 0.00979\n",
            "Epoch 500: Loss = 0.00920\n",
            "Epoch 600: Loss = 0.00880\n",
            "Epoch 700: Loss = 0.00854\n",
            "Epoch 800: Loss = 0.00836\n",
            "Epoch 900: Loss = 0.00823\n"
          ]
        }
      ]
    },
    {
      "cell_type": "markdown",
      "source": [
        "# 7.  Modification of Solver Parameters"
      ],
      "metadata": {
        "id": "v_Rzl3CCXqkY"
      }
    },
    {
      "cell_type": "markdown",
      "source": [
        "This step demonstrates the Modification of Solver Parameters. By increasing the learning rate and reducing the number of epochs, we try to achieve faster convergence in training the neural network. The losses are tracked for both the default and faster settings, and the comparison is visualized in a plot, which helps to observe how the changes in parameters affect the convergence rate and loss reduction."
      ],
      "metadata": {
        "id": "DQhZ4nFPXnmM"
      }
    },
    {
      "cell_type": "code",
      "source": [
        "# Modify solver parameters\n",
        "learning_rate_fast = 0.05\n",
        "epochs_fast = 500\n",
        "\n",
        "# Reinitialize weights\n",
        "weights_input_hidden_fast = np.random.uniform(-1, 1, (input_neurons, hidden_neurons))\n",
        "weights_hidden_output_fast = np.random.uniform(-1, 1, (hidden_neurons, output_neurons))\n",
        "\n",
        "fast_losses = []\n",
        "\n",
        "for epoch in range(epochs_fast):\n",
        "    # Forward Propagation\n",
        "    hidden_input = np.dot(x, weights_input_hidden_fast)\n",
        "    hidden_output = sigmoid(hidden_input)\n",
        "    final_input = np.dot(hidden_output, weights_hidden_output_fast)\n",
        "    predicted_output = sigmoid(final_input)\n",
        "\n",
        "    # Compute Loss\n",
        "    loss = np.mean((y.reshape(-1, 1) - predicted_output) ** 2)\n",
        "    fast_losses.append(loss)\n",
        "\n",
        "    # Backpropagation\n",
        "    error = y.reshape(-1, 1) - predicted_output\n",
        "    d_output = error * sigmoid_derivative(predicted_output)\n",
        "\n",
        "    hidden_error = d_output.dot(weights_hidden_output_fast.T)\n",
        "    d_hidden = hidden_error * sigmoid_derivative(hidden_output)\n",
        "\n",
        "    # Update Weights\n",
        "    weights_hidden_output_fast += hidden_output.T.dot(d_output) * learning_rate_fast\n",
        "    weights_input_hidden_fast += x.T.dot(d_hidden) * learning_rate_fast\n",
        "\n",
        "# Plot losses for comparison\n",
        "import matplotlib.pyplot as plt\n",
        "\n",
        "plt.plot(range(epochs), losses, label=\"Default Parameters\")\n",
        "plt.plot(range(epochs_fast), fast_losses, label=\"Faster Convergence\")\n",
        "plt.xlabel(\"Epochs\")\n",
        "plt.ylabel(\"Loss\")\n",
        "plt.legend()\n",
        "plt.title(\"Loss Comparison\")\n",
        "plt.show()\n"
      ],
      "metadata": {
        "colab": {
          "base_uri": "https://localhost:8080/",
          "height": 472
        },
        "id": "qZlcTIcfOz2Z",
        "outputId": "722d9f9f-d9be-4dd8-bbbd-9ab2186ee08c"
      },
      "execution_count": null,
      "outputs": [
        {
          "output_type": "display_data",
          "data": {
            "text/plain": [
              "<Figure size 640x480 with 1 Axes>"
            ],
            "image/png": "[encoded data removed]"
          },
          "metadata": {}
        }
      ]
    },
    {
      "cell_type": "markdown",
      "source": [
        "Based on the graph:\n",
        "\n",
        "Default Parameters (blue line):\n",
        "\n",
        "Shows a steady reduction in loss over time.\n",
        "Convergence is slower but consistent, indicating the default learning rate and solver parameters prioritize stability over speed.\n",
        "\n",
        "Faster Convergence (orange line):\n",
        "\n",
        "Loss drops much more quickly, especially in the earlier epochs.\n",
        "This suggests that tweaking the learning rate, momentum, or other solver parameters effectively accelerates training."
      ],
      "metadata": {
        "id": "5YvRoOh9X1XI"
      }
    },
    {
      "cell_type": "markdown",
      "source": [
        "Code to generate excel sheet"
      ],
      "metadata": {
        "id": "cncAMEvDcCD0"
      }
    },
    {
      "cell_type": "code",
      "source": [
        "# Import necessary libraries\n",
        "import pandas as pd\n",
        "import numpy as np\n",
        "from sklearn.preprocessing import MinMaxScaler\n",
        "import matplotlib.pyplot as plt\n",
        "\n",
        "# Load your dataset\n",
        "file_path = \"/content/drive/MyDrive/Colab Notebooks/Housing.csv\"  # Replace this with the correct path\n",
        "df = pd.read_csv(file_path)\n",
        "\n",
        "# Convert categorical variables to numerical\n",
        "df['mainroad'] = df['mainroad'].map({'yes': 1, 'no': 0})\n",
        "df['guestroom'] = df['guestroom'].map({'yes': 1, 'no': 0})\n",
        "df['basement'] = df['basement'].map({'yes': 1, 'no': 0})\n",
        "df['hotwaterheating'] = df['hotwaterheating'].map({'yes': 1, 'no': 0})\n",
        "df['airconditioning'] = df['airconditioning'].map({'yes': 1, 'no': 0})\n",
        "df['prefarea'] = df['prefarea'].map({'yes': 1, 'no': 0})\n",
        "df['furnishingstatus'] = df['furnishingstatus'].map({'furnished': 1, 'semi-furnished': 0, 'unfurnished': 0})\n",
        "\n",
        "# Drop any missing values\n",
        "df = df.dropna()\n",
        "\n",
        "# Normalize features\n",
        "scaler = MinMaxScaler()\n",
        "normalized_data = scaler.fit_transform(df)\n",
        "\n",
        "# Split into inputs (x) and target (y)\n",
        "x = normalized_data[:, 1:]  # Exclude 'price'\n",
        "y = normalized_data[:, 0]   # 'price' as target\n",
        "\n",
        "# Adjust inputs and outputs with small noise\n",
        "x_adjusted = x + np.random.normal(0, 0.1, x.shape)  # Add small noise to inputs\n",
        "y_adjusted = y + np.random.normal(0, 0.05, y.shape)  # Add small noise to target\n",
        "\n",
        "# Sigmoid activation function\n",
        "def sigmoid(z):\n",
        "    return 1 / (1 + np.exp(-z))\n",
        "\n",
        "# Derivative of sigmoid for backpropagation\n",
        "def sigmoid_derivative(z):\n",
        "    return z * (1 - z)\n",
        "\n",
        "# Initialize ANN parameters\n",
        "np.random.seed(42)\n",
        "input_neurons = x.shape[1]\n",
        "hidden_neurons = 5\n",
        "output_neurons = 1\n",
        "\n",
        "# Random weights initialization\n",
        "weights_input_hidden = np.random.uniform(-1, 1, (input_neurons, hidden_neurons))\n",
        "weights_hidden_output = np.random.uniform(-1, 1, (hidden_neurons, output_neurons))\n",
        "\n",
        "# Training parameters\n",
        "learning_rate = 0.01\n",
        "epochs = 1000\n",
        "losses = []\n",
        "\n",
        "# Training the ANN\n",
        "for epoch in range(epochs):\n",
        "    # Forward propagation\n",
        "    hidden_input = np.dot(x_adjusted, weights_input_hidden)\n",
        "    hidden_output = sigmoid(hidden_input)\n",
        "    final_input = np.dot(hidden_output, weights_hidden_output)\n",
        "    predicted_output = sigmoid(final_input)\n",
        "\n",
        "    # Compute loss\n",
        "    loss = np.mean((y_adjusted.reshape(-1, 1) - predicted_output) ** 2)\n",
        "    losses.append(loss)\n",
        "\n",
        "    # Backpropagation\n",
        "    error = y_adjusted.reshape(-1, 1) - predicted_output\n",
        "    d_output = error * sigmoid_derivative(predicted_output)\n",
        "\n",
        "    hidden_error = d_output.dot(weights_hidden_output.T)\n",
        "    d_hidden = hidden_error * sigmoid_derivative(hidden_output)\n",
        "\n",
        "    # Update weights\n",
        "    weights_hidden_output += hidden_output.T.dot(d_output) * learning_rate\n",
        "    weights_input_hidden += x_adjusted.T.dot(d_hidden) * learning_rate\n",
        "\n",
        "# Faster convergence parameters\n",
        "learning_rate_fast = 0.05\n",
        "epochs_fast = 500\n",
        "fast_losses = []\n",
        "\n",
        "# Reinitialize weights\n",
        "weights_input_hidden_fast = np.random.uniform(-1, 1, (input_neurons, hidden_neurons))\n",
        "weights_hidden_output_fast = np.random.uniform(-1, 1, (hidden_neurons, output_neurons))\n",
        "\n",
        "for epoch in range(epochs_fast):\n",
        "    # Forward propagation\n",
        "    hidden_input = np.dot(x_adjusted, weights_input_hidden_fast)\n",
        "    hidden_output = sigmoid(hidden_input)\n",
        "    final_input = np.dot(hidden_output, weights_hidden_output_fast)\n",
        "    predicted_output = sigmoid(final_input)\n",
        "\n",
        "    # Compute loss\n",
        "    loss = np.mean((y_adjusted.reshape(-1, 1) - predicted_output) ** 2)\n",
        "    fast_losses.append(loss)\n",
        "\n",
        "    # Backpropagation\n",
        "    error = y_adjusted.reshape(-1, 1) - predicted_output\n",
        "    d_output = error * sigmoid_derivative(predicted_output)\n",
        "\n",
        "    hidden_error = d_output.dot(weights_hidden_output_fast.T)\n",
        "    d_hidden = hidden_error * sigmoid_derivative(hidden_output)\n",
        "\n",
        "    # Update weights\n",
        "    weights_hidden_output_fast += hidden_output.T.dot(d_output) * learning_rate_fast\n",
        "    weights_input_hidden_fast += x_adjusted.T.dot(d_hidden) * learning_rate_fast\n",
        "\n",
        "# Compile results for export\n",
        "adjusted_df = pd.DataFrame(x_adjusted, columns=df.columns[1:])\n",
        "adjusted_df[\"price\"] = y_adjusted\n",
        "\n",
        "weights_df_input_hidden = pd.DataFrame(weights_input_hidden, columns=[f\"hidden_{i}\" for i in range(hidden_neurons)])\n",
        "weights_df_input_hidden[\"input\"] = df.columns[1:]\n",
        "\n",
        "weights_df_hidden_output = pd.DataFrame(weights_hidden_output, columns=[\"output\"])\n",
        "weights_df_hidden_output[\"hidden\"] = [f\"hidden_{i}\" for i in range(hidden_neurons)]\n",
        "\n",
        "loss_df = pd.DataFrame({\n",
        "    \"epoch\": range(epochs),\n",
        "    \"default_loss\": losses,\n",
        "    \"fast_loss\": fast_losses + [None] * (epochs - epochs_fast)\n",
        "})\n",
        "\n",
        "# Calculate predictions\n",
        "hidden_input = np.dot(x_adjusted, weights_input_hidden)\n",
        "hidden_output = sigmoid(hidden_input)\n",
        "final_input = np.dot(hidden_output, weights_hidden_output)\n",
        "predictions = sigmoid(final_input)\n",
        "\n",
        "predictions_df = pd.DataFrame({\n",
        "    \"actual_price\": y_adjusted,\n",
        "    \"predicted_price\": predictions.flatten()\n",
        "})\n",
        "\n",
        "# Save everything to an Excel file\n",
        "with pd.ExcelWriter(\"housing_ann_results.xlsx\") as writer:\n",
        "    adjusted_df.to_excel(writer, sheet_name=\"Adjusted Data\", index=False)\n",
        "    weights_df_input_hidden.to_excel(writer, sheet_name=\"Weights_Input_Hidden\", index=False)\n",
        "    weights_df_hidden_output.to_excel(writer, sheet_name=\"Weights_Hidden_Output\", index=False)\n",
        "    loss_df.to_excel(writer, sheet_name=\"Loss Progression\", index=False)\n",
        "    predictions_df.to_excel(writer, sheet_name=\"Predictions\", index=False)\n",
        "\n",
        "print(\"Results have been saved to 'housing_ann_results.xlsx'.\")\n"
      ],
      "metadata": {
        "id": "H2B81QskcG4b",
        "colab": {
          "base_uri": "https://localhost:8080/"
        },
        "outputId": "a021f6ab-c8ea-4626-b61b-9e6b0cb0a8f0"
      },
      "execution_count": null,
      "outputs": [
        {
          "output_type": "stream",
          "name": "stdout",
          "text": [
            "Results have been saved to 'housing_ann_results.xlsx'.\n"
          ]
        }
      ]
    }
  ]
}